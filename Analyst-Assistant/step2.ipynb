{
  "cells": [
    {
      "cell_type": "code",
      "execution_count": 2,
      "metadata": {
        "colab": {
          "base_uri": "https://localhost:8080/"
        },
        "id": "WwMW8FxZrceP",
        "outputId": "4afd351f-68e2-41a4-fd30-daf3b7eb9aac"
      },
      "outputs": [
        {
          "name": "stdout",
          "output_type": "stream",
          "text": [
            "Requirement already satisfied: openai in /usr/local/lib/python3.11/dist-packages (1.61.1)\n",
            "Requirement already satisfied: pandas in /usr/local/lib/python3.11/dist-packages (2.2.2)\n",
            "Requirement already satisfied: matplotlib in /usr/local/lib/python3.11/dist-packages (3.10.0)\n",
            "Requirement already satisfied: seaborn in /usr/local/lib/python3.11/dist-packages (0.13.2)\n",
            "Requirement already satisfied: anyio<5,>=3.5.0 in /usr/local/lib/python3.11/dist-packages (from openai) (3.7.1)\n",
            "Requirement already satisfied: distro<2,>=1.7.0 in /usr/local/lib/python3.11/dist-packages (from openai) (1.9.0)\n",
            "Requirement already satisfied: httpx<1,>=0.23.0 in /usr/local/lib/python3.11/dist-packages (from openai) (0.28.1)\n",
            "Requirement already satisfied: jiter<1,>=0.4.0 in /usr/local/lib/python3.11/dist-packages (from openai) (0.8.2)\n",
            "Requirement already satisfied: pydantic<3,>=1.9.0 in /usr/local/lib/python3.11/dist-packages (from openai) (2.10.6)\n",
            "Requirement already satisfied: sniffio in /usr/local/lib/python3.11/dist-packages (from openai) (1.3.1)\n",
            "Requirement already satisfied: tqdm>4 in /usr/local/lib/python3.11/dist-packages (from openai) (4.67.1)\n",
            "Requirement already satisfied: typing-extensions<5,>=4.11 in /usr/local/lib/python3.11/dist-packages (from openai) (4.12.2)\n",
            "Requirement already satisfied: numpy>=1.23.2 in /usr/local/lib/python3.11/dist-packages (from pandas) (1.26.4)\n",
            "Requirement already satisfied: python-dateutil>=2.8.2 in /usr/local/lib/python3.11/dist-packages (from pandas) (2.8.2)\n",
            "Requirement already satisfied: pytz>=2020.1 in /usr/local/lib/python3.11/dist-packages (from pandas) (2025.1)\n",
            "Requirement already satisfied: tzdata>=2022.7 in /usr/local/lib/python3.11/dist-packages (from pandas) (2025.1)\n",
            "Requirement already satisfied: contourpy>=1.0.1 in /usr/local/lib/python3.11/dist-packages (from matplotlib) (1.3.1)\n",
            "Requirement already satisfied: cycler>=0.10 in /usr/local/lib/python3.11/dist-packages (from matplotlib) (0.12.1)\n",
            "Requirement already satisfied: fonttools>=4.22.0 in /usr/local/lib/python3.11/dist-packages (from matplotlib) (4.56.0)\n",
            "Requirement already satisfied: kiwisolver>=1.3.1 in /usr/local/lib/python3.11/dist-packages (from matplotlib) (1.4.8)\n",
            "Requirement already satisfied: packaging>=20.0 in /usr/local/lib/python3.11/dist-packages (from matplotlib) (24.2)\n",
            "Requirement already satisfied: pillow>=8 in /usr/local/lib/python3.11/dist-packages (from matplotlib) (11.1.0)\n",
            "Requirement already satisfied: pyparsing>=2.3.1 in /usr/local/lib/python3.11/dist-packages (from matplotlib) (3.2.1)\n",
            "Requirement already satisfied: idna>=2.8 in /usr/local/lib/python3.11/dist-packages (from anyio<5,>=3.5.0->openai) (3.10)\n",
            "Requirement already satisfied: certifi in /usr/local/lib/python3.11/dist-packages (from httpx<1,>=0.23.0->openai) (2025.1.31)\n",
            "Requirement already satisfied: httpcore==1.* in /usr/local/lib/python3.11/dist-packages (from httpx<1,>=0.23.0->openai) (1.0.7)\n",
            "Requirement already satisfied: h11<0.15,>=0.13 in /usr/local/lib/python3.11/dist-packages (from httpcore==1.*->httpx<1,>=0.23.0->openai) (0.14.0)\n",
            "Requirement already satisfied: annotated-types>=0.6.0 in /usr/local/lib/python3.11/dist-packages (from pydantic<3,>=1.9.0->openai) (0.7.0)\n",
            "Requirement already satisfied: pydantic-core==2.27.2 in /usr/local/lib/python3.11/dist-packages (from pydantic<3,>=1.9.0->openai) (2.27.2)\n",
            "Requirement already satisfied: six>=1.5 in /usr/local/lib/python3.11/dist-packages (from python-dateutil>=2.8.2->pandas) (1.17.0)\n"
          ]
        }
      ],
      "source": [
        "!pip install openai pandas matplotlib seaborn"
      ]
    },
    {
      "cell_type": "code",
      "execution_count": 3,
      "metadata": {
        "colab": {
          "base_uri": "https://localhost:8080/"
        },
        "id": "IyH8xOJ3rlZW",
        "outputId": "af16bbf2-7648-4f64-cfc8-38ee55ebc14d"
      },
      "outputs": [
        {
          "name": "stdout",
          "output_type": "stream",
          "text": [
            "Requirement already satisfied: kaggle in /usr/local/lib/python3.11/dist-packages (1.6.17)\n",
            "Requirement already satisfied: six>=1.10 in /usr/local/lib/python3.11/dist-packages (from kaggle) (1.17.0)\n",
            "Requirement already satisfied: certifi>=2023.7.22 in /usr/local/lib/python3.11/dist-packages (from kaggle) (2025.1.31)\n",
            "Requirement already satisfied: python-dateutil in /usr/local/lib/python3.11/dist-packages (from kaggle) (2.8.2)\n",
            "Requirement already satisfied: requests in /usr/local/lib/python3.11/dist-packages (from kaggle) (2.32.3)\n",
            "Requirement already satisfied: tqdm in /usr/local/lib/python3.11/dist-packages (from kaggle) (4.67.1)\n",
            "Requirement already satisfied: python-slugify in /usr/local/lib/python3.11/dist-packages (from kaggle) (8.0.4)\n",
            "Requirement already satisfied: urllib3 in /usr/local/lib/python3.11/dist-packages (from kaggle) (2.3.0)\n",
            "Requirement already satisfied: bleach in /usr/local/lib/python3.11/dist-packages (from kaggle) (6.2.0)\n",
            "Requirement already satisfied: webencodings in /usr/local/lib/python3.11/dist-packages (from bleach->kaggle) (0.5.1)\n",
            "Requirement already satisfied: text-unidecode>=1.3 in /usr/local/lib/python3.11/dist-packages (from python-slugify->kaggle) (1.3)\n",
            "Requirement already satisfied: charset-normalizer<4,>=2 in /usr/local/lib/python3.11/dist-packages (from requests->kaggle) (3.4.1)\n",
            "Requirement already satisfied: idna<4,>=2.5 in /usr/local/lib/python3.11/dist-packages (from requests->kaggle) (3.10)\n",
            "ref                                                                  title                                               size  lastUpdated          downloadCount  voteCount  usabilityRating  \n",
            "-------------------------------------------------------------------  -------------------------------------------------  -----  -------------------  -------------  ---------  ---------------  \n",
            "atharvasoundankar/chocolate-sales                                    Chocolate Sales Data 📊🍫                             63KB  2025-03-07 05:44:03           3318         41  1.0              \n",
            "abdulmalik1518/mobiles-dataset-2025                                  Mobiles Dataset (2025)                              20KB  2025-02-18 06:50:24          10424        186  1.0              \n",
            "adilshamim8/student-performance-on-an-entrance-examination           Student Performance on an Entrance Examination       4KB  2025-03-04 00:09:21           1051         27  1.0              \n",
            "mahmoudelhemaly/students-grading-dataset                             Student Performance & Behavior Dataset             508KB  2025-02-17 17:38:46           7595        124  1.0              \n",
            "ignacioazua/life-expectancy                                          Life Expectancy                                      3KB  2025-03-04 06:16:35           1374         29  1.0              \n",
            "salahuddinahmedshuvo/ecommerce-consumer-behavior-analysis-data       Ecommerce Consumer Behavior Analysis Data           43KB  2025-03-03 13:09:09           1555         23  0.9411765        \n",
            "atharvasoundankar/viral-social-media-trends-and-engagement-analysis  🚀 Viral Social Media Trends & Engagement Analysis  105KB  2025-03-10 04:51:48           1109         21  1.0              \n",
            "rathoddharmendra/post-college-salaries                               U.S Post College Salaries                           12KB  2025-02-19 14:39:29           1219         28  0.8235294        \n",
            "mayuravartak/motogp-riders-2024-performance-dataset                  MotoGP Riders in 2024 Performance Dataset            5KB  2025-03-06 18:48:20            472         25  1.0              \n",
            "vinothkannaece/sales-dataset                                         sales dataset                                       27KB  2025-02-18 05:13:42           6024         81  1.0              \n",
            "ankushpanday2/oral-cancer-prediction-dataset                         Oral Cancer Prediction Dataset                       2MB  2025-03-06 14:13:24            759         27  1.0              \n",
            "anandshaw2001/video-game-sales                                       Video Game Sales                                   381KB  2025-02-23 05:16:04           1119         42  1.0              \n",
            "smayanj/e-commerce-transactions-dataset                              E-Commerce Transactions Dataset                    749KB  2025-03-08 12:20:45            580         39  1.0              \n",
            "amrmaree/student-performance-prediction                              Student Performance Prediction                      11KB  2025-03-03 15:46:10           1467         27  0.9411765        \n",
            "smayanj/netflix-users-database                                       Netflix Users Database                             354KB  2025-03-08 12:08:09            560         32  1.0              \n",
            "atharvasoundankar/futuristic-smart-city-citizen-activity-dataset     📊 Futuristic Smart City Citizen Activity Dataset    23KB  2025-03-06 04:58:22            619         30  1.0              \n",
            "adilshamim8/student-performance-and-learning-style                   Student Performance & Learning Style               148KB  2025-02-12 06:12:07           3314         53  1.0              \n",
            "ankushpanday2/colorectal-cancer-global-dataset-and-predictions       Colorectal Cancer Global Dataset & Predictions       4MB  2025-02-27 18:30:45           1282         30  1.0              \n",
            "samikshadalvi/lungs-diseases-dataset                                 Lungs Diseases Dataset                              40KB  2025-02-25 01:51:36           1867         38  1.0              \n",
            "samayashar/startup-growth-and-funding-trends                         Startup Growth & Funding Trends                     12KB  2025-02-25 18:00:32            640         23  1.0              \n"
          ]
        }
      ],
      "source": [
        "!pip install kaggle\n",
        "!mkdir -p ~/.kaggle\n",
        "!mv /content/kaggle.json ~/.kaggle/\n",
        "!chmod 600 ~/.kaggle/kaggle.json\n",
        "!kaggle datasets list"
      ]
    },
    {
      "cell_type": "code",
      "execution_count": 4,
      "metadata": {
        "colab": {
          "base_uri": "https://localhost:8080/"
        },
        "id": "KVmoRWRerlIC",
        "outputId": "9dd7cb86-c146-488c-fb8e-3ff183e97ee0"
      },
      "outputs": [
        {
          "name": "stdout",
          "output_type": "stream",
          "text": [
            "Dataset URL: https://www.kaggle.com/datasets/yasserh/wine-quality-dataset\n",
            "License(s): CC0-1.0\n",
            "Downloading wine-quality-dataset.zip to /content\n",
            "  0% 0.00/21.5k [00:00<?, ?B/s]\n",
            "100% 21.5k/21.5k [00:00<00:00, 31.1MB/s]\n",
            "Archive:  /content/wine-quality-dataset.zip\n",
            "  inflating: WineQT.csv              \n"
          ]
        }
      ],
      "source": [
        "!kaggle datasets download yasserh/wine-quality-dataset\n",
        "!unzip /content/wine-quality-dataset.zip"
      ]
    },
    {
      "cell_type": "markdown",
      "metadata": {
        "id": "4sR-91lERjaG"
      },
      "source": [
        "AIがコードを生成"
      ]
    },
    {
      "cell_type": "code",
      "execution_count": null,
      "metadata": {
        "colab": {
          "base_uri": "https://localhost:8080/"
        },
        "id": "FjWTT9N4tFOY",
        "outputId": "6df8a102-216a-4521-8423-57eda680158b"
      },
      "outputs": [
        {
          "name": "stdout",
          "output_type": "stream",
          "text": [
            "データ取得方法を選択してください（1: アップロード, 2: フォルダ内のCSVを使用）: 2\n",
            "フォルダ内のCSVファイル: ['WineQT.csv']\n",
            "読み込んだデータ: /content/data/WineQT.csv\n",
            "   fixed acidity  volatile acidity  citric acid  residual sugar  chlorides  \\\n",
            "0            7.4              0.70         0.00             1.9      0.076   \n",
            "1            7.8              0.88         0.00             2.6      0.098   \n",
            "2            7.8              0.76         0.04             2.3      0.092   \n",
            "3           11.2              0.28         0.56             1.9      0.075   \n",
            "4            7.4              0.70         0.00             1.9      0.076   \n",
            "\n",
            "   free sulfur dioxide  total sulfur dioxide  density    pH  sulphates  \\\n",
            "0                 11.0                  34.0   0.9978  3.51       0.56   \n",
            "1                 25.0                  67.0   0.9968  3.20       0.68   \n",
            "2                 15.0                  54.0   0.9970  3.26       0.65   \n",
            "3                 17.0                  60.0   0.9980  3.16       0.58   \n",
            "4                 11.0                  34.0   0.9978  3.51       0.56   \n",
            "\n",
            "   alcohol  quality  Id  \n",
            "0      9.4        5   0  \n",
            "1      9.8        5   1  \n",
            "2      9.8        5   2  \n",
            "3      9.8        6   3  \n",
            "4      9.4        5   4  \n",
            "\n",
            "=== AIの分析提案 ===\n",
            "\n",
            "データ分析の初心者向けに、以下に適切な手法を提案し、その選択理由、得られる情報、結果の解釈方法を説明します。\n",
            "\n",
            "### 提案する分析手法: 多重線形回帰分析\n",
            "\n",
            "#### 1. なぜこの分析手法を選んだのか？\n",
            "多重線形回帰分析は、複数の独立変数（この場合はワインの化学特性）を使って、従属変数（ワインの「quality」）を予測する手法です。この手法を選んだ理由は、データセットに複数の特性が含まれており、それらがどのように「quality」に影響を与えているかを調べるのに適しているからです。また、この手法は比較的理解しやすく、実行しやすいという利点があります。\n",
            "\n",
            "#### 2. どのような情報が得られるのか？\n",
            "この分析により、各化学特性（例: fixed acidity, volatile acidity, etc.）がワインの品質に与える影響の程度を知ることができます。具体的には、各特性の回帰係数が出力され、その数値はその特性が品質にどのくらいの強さで影響するかを示します。また、分析結果からは各特性の統計的有意性（p値）も得られ、特性が本当に品質に影響しているかどうかの判断も可能です。\n",
            "\n",
            "#### 3. 分析結果の解釈をどのように行うべきか？\n",
            "- **回帰係数の解釈**: プラスの係数は、その特性が増えると品質が高まることを示し、マイナスの係数は特性が増えると品質が下がることを示します。例えば、「alcohol」の係数がプラスなら、アルコール度が高いほど品質が高いという解釈になります。\n",
            "- **p値の評価**: 一般に、p値が0.05以下であれば、その特性が統計的に有意に品質に影響していると判断できます。\n",
            "- **分析モデル全体の評価**: 決定係数（R²値）により、モデル全体がどの程度品質を説明できているかを評価します。高いR²値（例えば0.7以上）は、モデルがデータにうまくフィットしていることを示します。\n",
            "- **注意点**: 結果の解釈を行う際は、多重共線性（特性間での高い相関）や、外れ値の影響に注意し、必要に応じてデータクレンジングや変数の選択を行うことが重要です。\n",
            "\n",
            "この分析により、どの化学特性がワインの品質に大きく影響しているかが明らかになり、品質を改善するための具体的な指針を得ることができます。\n",
            "\n",
            "=== AIの生成したPythonコード ===\n",
            "以下に、多重線形回帰分析を行うためのPythonコードを提供します。このコードは、Pandas、Matplotlib、Seaborn、Scikit-learnを使用してワインの品質を予測する分析を行います。コードには、結果の解釈に関するヒントや注意事項も含めています。\n",
            "\n",
            "```python\n",
            "# 必要なライブラリをインポート\n",
            "import pandas as pd\n",
            "import numpy as np\n",
            "import matplotlib.pyplot as plt\n",
            "import seaborn as sns\n",
            "from sklearn.model_selection import train_test_split\n",
            "from sklearn.linear_model import LinearRegression\n",
            "from sklearn.metrics import mean_squared_error, r2_score\n",
            "import statsmodels.api as sm\n",
            "\n",
            "# データフレーム df は既に存在しているものとします。\n",
            "# 'quality'を予測するための特徴量とターゲット変数を定義\n",
            "X = df.drop('quality', axis=1)  # すべての特徴量\n",
            "y = df['quality']  # ターゲット変数\n",
            "\n",
            "# 学習用データとテスト用データに分割\n",
            "X_train, X_test, y_train, y_test = train_test_split(X, y, test_size=0.2, random_state=42)\n",
            "\n",
            "# 線形回帰モデルを作成\n",
            "model = LinearRegression()\n",
            "\n",
            "# モデルを学習\n",
            "model.fit(X_train, y_train)\n",
            "\n",
            "# テストデータを使って予測\n",
            "y_pred = model.predict(X_test)\n",
            "\n",
            "# 結果の評価\n",
            "mse = mean_squared_error(y_test, y_pred)\n",
            "r2 = r2_score(y_test, y_pred)\n",
            "\n",
            "print(f'Mean Squared Error: {mse}')\n",
            "print(f'R² Score: {r2}')\n",
            "\n",
            "# Statsmodelsによる詳細な回帰分析\n",
            "X_train_sm = sm.add_constant(X_train)  # 定数項を追加\n",
            "model_sm = sm.OLS(y_train, X_train_sm).fit()\n",
            "\n",
            "# 回帰結果の概要を表示\n",
            "print(model_sm.summary())\n",
            "\n",
            "# 回帰係数の視覚化\n",
            "coefficients = pd.DataFrame(model.coef_, X.columns, columns=['Coefficient'])\n",
            "plt.figure(figsize=(10, 6))\n",
            "sns.barplot(x=coefficients.index, y='Coefficient', data=coefficients)\n",
            "plt.xticks(rotation=45)\n",
            "plt.title('Regression Coefficients')\n",
            "plt.show()\n",
            "\n",
            "# 結果の解釈\n",
            "# - 回帰係数: 各特徴量が品質に与える影響の大きさと方向を示します。\n",
            "# - p値: 統計的に有意か否かを評価します。p値が0.05以下なら有意性あり。\n",
            "# - R²値: モデル全体の適合度を示します。\n",
            "\n",
            "# 注意点\n",
            "# - 特性間に多重共線性が存在する場合、VIFを使用して影響をチェックし、必要に応じて特徴量を削除します。\n",
            "# - 外れ値が結果に与える影響を確認し、必要に応じて外れ値を処理します。\n",
            "```\n",
            "\n",
            "### 分析結果の解釈ガイド:\n",
            "- **回帰係数**: 各化学特性の係数を確認し、特徴量が「quality」にどの程度影響を及ぼしているかを判断します。正の値は改善、負の値は悪化を示します。\n",
            "- **p値の確認**: p値が0.05未満の特徴量は、品質に有意義な影響を及ぼしていると考えられます。\n",
            "- **R²値の評価**: R²が高ければ高いほど、モデルは「quality」をうまく説明していることを示しますが、偏りにも注意が必要です。\n",
            "\n",
            "### 追加の注意点:\n",
            "- **多重共線性の評価**: 特性間の相関が高いと、多重共線性が生じます。これは、特性の削除によって対処可能です。\n",
            "- **外れ値の処理**: 外れ値は、モデルのパフォーマンスに悪影響を及ぼす可能性がありますので、事前にプロットを確認し、必要に応じて対処することをお勧めします。\n",
            "\n",
            "=== 'generated_code.py' に保存されました。次のセルで以下を実行してください: ===\n",
            "```python\n",
            "%run generated_code.py\n",
            "```\n"
          ]
        }
      ],
      "source": [
        "import openai\n",
        "import pandas as pd\n",
        "import os\n",
        "from google.colab import files\n",
        "\n",
        "# OpenAI APIキー設定\n",
        "openai.api_key = \"APIキー\"\n",
        "\n",
        "# ======= データの取得 =======\n",
        "choice = input(\"データ取得方法を選択してください（1: アップロード, 2: フォルダ内のCSVを使用）: \")\n",
        "\n",
        "if choice == \"1\":\n",
        "    print(\"CSVファイルをアップロードしてください。\")\n",
        "    uploaded = files.upload()  # ファイルアップロード\n",
        "    filename = list(uploaded.keys())[0]  # アップロードされたファイル名を取得\n",
        "\n",
        "elif choice == \"2\":\n",
        "    folder_path = \"/content/data\"  # Colab上のデータフォルダ\n",
        "    if not os.path.exists(folder_path):\n",
        "        os.makedirs(folder_path)\n",
        "\n",
        "    csv_files = [f for f in os.listdir(folder_path) if f.endswith('.csv')]\n",
        "\n",
        "    if len(csv_files) == 0:\n",
        "        print(\"フォルダ内にCSVファイルが見つかりません。\")\n",
        "        filename = None\n",
        "    else:\n",
        "        print(\"フォルダ内のCSVファイル:\", csv_files)\n",
        "        filename = os.path.join(folder_path, csv_files[0])  # 最初のCSVを選択\n",
        "\n",
        "else:\n",
        "    print(\"無効な選択肢です。1 または 2 を入力してください。\")\n",
        "    filename = None\n",
        "\n",
        "# ======= データの読み込み =======\n",
        "if filename:\n",
        "    df = pd.read_csv(filename)\n",
        "    print(f\"読み込んだデータ: {filename}\")\n",
        "    print(df.head())  # 先頭5行を表示\n",
        "\n",
        "    # データの統計情報を取得\n",
        "    data_summary = df.describe().to_string()\n",
        "\n",
        "    # ======= AIに分析手法を提案させる =======\n",
        "    prompt_analysis = f\"\"\"\n",
        "    以下のデータの統計情報を元に、適切なデータ分析手法を提案してください。\n",
        "    ただし、データ分析に不慣れな人向けに、以下の3点を含めて説明してください：\n",
        "    1. なぜこの分析手法を選んだのか？\n",
        "    2. どのような情報が得られるのか？\n",
        "    3. 分析結果の解釈をどのように行うべきか？\n",
        "\n",
        "    データの統計情報:\n",
        "    {data_summary}\n",
        "    \"\"\"\n",
        "\n",
        "    response_analysis = openai.chat.completions.create(\n",
        "        model=\"gpt-4o\",\n",
        "        messages=[{\"role\": \"user\", \"content\": prompt_analysis}]\n",
        "    )\n",
        "\n",
        "    analysis_suggestion = response_analysis.choices[0].message.content\n",
        "    print(\"\\n=== AIの分析提案 ===\\n\")\n",
        "    print(analysis_suggestion)\n",
        "\n",
        "    # ======= 提案された分析に基づきコードを生成 =======\n",
        "    prompt_code = f\"\"\"\n",
        "    ユーザーが以下のデータを分析したいと考えています。\n",
        "    あなたはPythonコードを提供してください。\n",
        "    提案された分析方法を基に、Pandas、Matplotlib、Seaborn、Scikit-learnを使用してデータ分析を行うPythonコードを書いてください。\n",
        "    ただし、データフレーム df は既にColab上に存在しているものとして、データの読み込み部分は不要です。\n",
        "\n",
        "    {analysis_suggestion}\n",
        "    \"\"\"\n",
        "\n",
        "    response_code = openai.chat.completions.create(\n",
        "        model=\"gpt-4o\",\n",
        "        messages=[{\"role\": \"user\", \"content\": prompt_code}]\n",
        "    )\n",
        "\n",
        "    # AIが生成したコードを取得\n",
        "    generated_code = response_code.choices[0].message.content\n",
        "\n",
        "    # ======= 生成したコードを Python ファイルに保存 =======\n",
        "    with open(\"generated_code.py\", \"w\") as f:\n",
        "        f.write(generated_code)\n",
        "\n",
        "    print(\"\\n=== AIの生成したPythonコード ===\")\n",
        "    print(generated_code)\n",
        "    print(\"\\n=== 'generated_code.py' に保存されました。次のセルで以下を実行してください: ===\")\n",
        "    print(\"```python\")\n",
        "    print(\"%run generated_code.py\")\n",
        "    print(\"```\")\n"
      ]
    },
    {
      "cell_type": "markdown",
      "metadata": {
        "id": "ZFwX7rkmqiMR"
      },
      "source": [
        "生成したコードを実行"
      ]
    },
    {
      "cell_type": "code",
      "execution_count": 6,
      "metadata": {
        "colab": {
          "base_uri": "https://localhost:8080/",
          "height": 1000
        },
        "id": "-fOea3IaTKNV",
        "outputId": "ab5bee7c-9bec-4ac4-f7e4-fe61016d2fd9"
      },
      "outputs": [
        {
          "name": "stdout",
          "output_type": "stream",
          "text": [
            "Mean Squared Error: 0.3824283521291846\n",
            "R² Score: 0.31276385395084094\n",
            "                            OLS Regression Results                            \n",
            "==============================================================================\n",
            "Dep. Variable:                quality   R-squared:                       0.384\n",
            "Model:                            OLS   Adj. R-squared:                  0.375\n",
            "Method:                 Least Squares   F-statistic:                     46.71\n",
            "Date:                Wed, 12 Mar 2025   Prob (F-statistic):           3.12e-86\n",
            "Time:                        14:03:27   Log-Likelihood:                -894.14\n",
            "No. Observations:                 914   AIC:                             1814.\n",
            "Df Residuals:                     901   BIC:                             1877.\n",
            "Df Model:                          12                                         \n",
            "Covariance Type:            nonrobust                                         \n",
            "========================================================================================\n",
            "                           coef    std err          t      P>|t|      [0.025      0.975]\n",
            "----------------------------------------------------------------------------------------\n",
            "const                   36.4962     28.999      1.259      0.209     -20.417      93.410\n",
            "fixed acidity            0.0448      0.036      1.257      0.209      -0.025       0.115\n",
            "volatile acidity        -1.3265      0.162     -8.205      0.000      -1.644      -1.009\n",
            "citric acid             -0.3202      0.198     -1.617      0.106      -0.709       0.069\n",
            "residual sugar           0.0046      0.021      0.217      0.828      -0.037       0.047\n",
            "chlorides               -1.8369      0.571     -3.218      0.001      -2.957      -0.717\n",
            "free sulfur dioxide      0.0028      0.003      0.935      0.350      -0.003       0.009\n",
            "total sulfur dioxide    -0.0026      0.001     -2.587      0.010      -0.005      -0.001\n",
            "density                -32.7678     29.602     -1.107      0.269     -90.866      25.330\n",
            "pH                      -0.2841      0.258     -1.103      0.270      -0.790       0.221\n",
            "sulphates                0.9539      0.159      5.997      0.000       0.642       1.266\n",
            "alcohol                  0.2716      0.037      7.439      0.000       0.200       0.343\n",
            "Id                   -7.207e-05   5.21e-05     -1.382      0.167      -0.000    3.03e-05\n",
            "==============================================================================\n",
            "Omnibus:                        8.424   Durbin-Watson:                   1.946\n",
            "Prob(Omnibus):                  0.015   Jarque-Bera (JB):               11.549\n",
            "Skew:                          -0.065   Prob(JB):                      0.00311\n",
            "Kurtosis:                       3.535   Cond. No.                     1.82e+06\n",
            "==============================================================================\n",
            "\n",
            "Notes:\n",
            "[1] Standard Errors assume that the covariance matrix of the errors is correctly specified.\n",
            "[2] The condition number is large, 1.82e+06. This might indicate that there are\n",
            "strong multicollinearity or other numerical problems.\n"
          ]
        },
        {
          "data": {
            "image/png": "[encoded data removed]",
            "text/plain": [
              "<Figure size 1000x600 with 1 Axes>"
            ]
          },
          "metadata": {},
          "output_type": "display_data"
        }
      ],
      "source": [
        "import pandas as pd\n",
        "import numpy as np\n",
        "import matplotlib.pyplot as plt\n",
        "import seaborn as sns\n",
        "from sklearn.model_selection import train_test_split\n",
        "from sklearn.linear_model import LinearRegression\n",
        "from sklearn.metrics import mean_squared_error, r2_score\n",
        "import statsmodels.api as sm\n",
        "\n",
        "# データフレーム df は既に存在しているものとします。\n",
        "# 'quality'を予測するための特徴量とターゲット変数を定義\n",
        "X = df.drop('quality', axis=1)  # すべての特徴量\n",
        "y = df['quality']  # ターゲット変数\n",
        "\n",
        "# 学習用データとテスト用データに分割\n",
        "X_train, X_test, y_train, y_test = train_test_split(X, y, test_size=0.2, random_state=42)\n",
        "\n",
        "# 線形回帰モデルを作成\n",
        "model = LinearRegression()\n",
        "\n",
        "# モデルを学習\n",
        "model.fit(X_train, y_train)\n",
        "\n",
        "# テストデータを使って予測\n",
        "y_pred = model.predict(X_test)\n",
        "\n",
        "# 結果の評価\n",
        "mse = mean_squared_error(y_test, y_pred)\n",
        "r2 = r2_score(y_test, y_pred)\n",
        "\n",
        "print(f'Mean Squared Error: {mse}')\n",
        "print(f'R² Score: {r2}')\n",
        "\n",
        "# Statsmodelsによる詳細な回帰分析\n",
        "X_train_sm = sm.add_constant(X_train)  # 定数項を追加\n",
        "model_sm = sm.OLS(y_train, X_train_sm).fit()\n",
        "\n",
        "# 回帰結果の概要を表示\n",
        "print(model_sm.summary())\n",
        "\n",
        "# 回帰係数の視覚化\n",
        "coefficients = pd.DataFrame(model.coef_, X.columns, columns=['Coefficient'])\n",
        "plt.figure(figsize=(10, 6))\n",
        "sns.barplot(x=coefficients.index, y='Coefficient', data=coefficients)\n",
        "plt.xticks(rotation=45)\n",
        "plt.title('Regression Coefficients')\n",
        "plt.show()"
      ]
    },
    {
      "cell_type": "markdown",
      "metadata": {
        "id": "x1NKBY2Uq0wg"
      },
      "source": [
        "考察させる"
      ]
    },
    {
      "cell_type": "code",
      "execution_count": 8,
      "metadata": {
        "colab": {
          "base_uri": "https://localhost:8080/"
        },
        "id": "C8sviJQaqrp-",
        "outputId": "24662f09-6614-4881-f231-de259768563f"
      },
      "outputs": [
        {
          "name": "stdout",
          "output_type": "stream",
          "text": [
            "\n",
            "=== AIの分析結果の考察 ===\n",
            "\n",
            "この分析結果をデータ分析に不慣れな人向けにわかりやすく説明します。\n",
            "\n",
            "### 1. この分析結果から何がわかるのか？\n",
            "\n",
            "この分析は、与えられた特徴量（説明変数）を利用して「quality」（品質）を予測するために線形回帰モデルを使用したものです。結果から以下のことがわかります：\n",
            "\n",
            "- **平均二乗誤差（MSE）**: これは、予測値と実際の値の差を表す指標です。値が小さいほど、モデルの予測が正確であることを示しています。\n",
            "- **R²スコア**: これはモデルの適合度を示します。1に近いほど、説明変数がターゲット変数をうまく説明できていることを示しています。0に近いほど予測力が弱いことを意味します。\n",
            "- **回帰係数**: モデルがどの特徴量に対してどのように反応するかを示します。正の係数はその特徴量が品質を高める方向に寄与し、負の係数は品質を低下させる方向に寄与することを意味します。\n",
            "\n",
            "### 2. どのように解釈すればよいのか？\n",
            "\n",
            "- **係数の大きさと符号**: 各特徴量が品質にどのように影響を与えるかがわかります。たとえば、ある特徴量の係数が高い場合、その特徴が品質に対する影響力が強いということです。\n",
            "- **p値**: 統計的に有意かどうかを判断するために使います。一般的に、p値が0.05以下であれば、その特徴量は品質に対して有意な影響を与えているとみなされます。\n",
            "- **全体の適合度（R²値）**: モデルがどれほどターゲット変数を説明できるか、即ちモデルの性能を示します。値が0.7以上ならモデルは適切にデータを説明していると考えられます。\n",
            "\n",
            "### 3. もし追加の分析をするなら、どのようなアプローチが考えられるか？\n",
            "\n",
            "- **多重共線性の検証**: 特徴量間に高い相関があると、モデルの信頼性が低下します。VIF（Variance Inflation Factor）を使って多重共線性を特定し、必要ならば特徴量を削減してください。\n",
            "- **外れ値の影響**: 外れ値がモデルにどのような影響を与えているか確認し、場合によっては外れ値を除去するか、何らかの方法で対処します。\n",
            "- **異なるモデルの使用**: 線形回帰はシンプルな手法ですが、データによっては他の手法（例：ランダムフォレストや勾配ブースティング）を試すことで予測精度が向上する可能性があります。\n",
            "- **交差検証の実施**: モデルの精度を評価するために交差検証を実施し、過学習を防ぎます。\n",
            "\n",
            "このような追加の分析や手法を導入することで、モデルの精度をさらに高めることができます。\n"
          ]
        }
      ],
      "source": [
        "# ======= AIに分析結果の考察を依頼 =======\n",
        "prompt_interpretation = f\"\"\"\n",
        "以下のデータについて、AIが選択した分析手法を使いました。\n",
        "分析結果を見た後、データ分析に不慣れな人向けに、以下の点についてわかりやすく説明してください。\n",
        "\n",
        "1. この分析結果から何がわかるのか？\n",
        "2. どのように解釈すればよいのか？\n",
        "3. もし追加の分析をするなら、どのようなアプローチが考えられるか？\n",
        "\n",
        "### 実行したコード:\n",
        "{open(\"generated_code.py\").read()}\n",
        "\"\"\"\n",
        "\n",
        "response_interpretation = openai.chat.completions.create(\n",
        "    model=\"gpt-4o\",\n",
        "    messages=[{\"role\": \"user\", \"content\": prompt_interpretation}]\n",
        ")\n",
        "\n",
        "interpretation = response_interpretation.choices[0].message.content\n",
        "\n",
        "print(\"\\n=== AIの分析結果の考察 ===\\n\")\n",
        "print(interpretation)\n"
      ]
    },
    {
      "cell_type": "code",
      "execution_count": null,
      "metadata": {
        "id": "zSfqc45Nq4-Z"
      },
      "outputs": [],
      "source": []
    }
  ],
  "metadata": {
    "colab": {
      "provenance": []
    },
    "kernelspec": {
      "display_name": "Python 3",
      "name": "python3"
    },
    "language_info": {
      "name": "python"
    }
  },
  "nbformat": 4,
  "nbformat_minor": 0
}
